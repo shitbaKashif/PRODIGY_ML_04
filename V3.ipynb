{
 "cells": [
  {
   "cell_type": "code",
   "execution_count": 3,
   "metadata": {},
   "outputs": [],
   "source": [
    "# import os\n",
    "import numpy as np\n",
    "import tensorflow as tf\n",
    "from tensorflow.keras.models import Sequential\n",
    "# from tensorflow.keras.utils import to_categorical\n",
    "from tensorflow.keras.preprocessing.image import ImageDataGenerator\n",
    "from tensorflow.keras.layers import Conv2D, MaxPooling2D, Flatten, Dense, Dropout\n"
   ]
  },
  {
   "cell_type": "markdown",
   "metadata": {},
   "source": [
    "#### Preprocessing"
   ]
  },
  {
   "cell_type": "code",
   "execution_count": 4,
   "metadata": {},
   "outputs": [
    {
     "name": "stdout",
     "output_type": "stream",
     "text": [
      "Found 16000 images belonging to 10 classes.\n",
      "Found 4000 images belonging to 10 classes.\n"
     ]
    }
   ],
   "source": [
    "DataDir = \"./leapGestRecog\"\n",
    "ImgSize = (128, 128)\n",
    "BatchSize = 32\n",
    "\n",
    "# Data augmentation and preprocessing\n",
    "train_datagen = ImageDataGenerator(\n",
    "    rescale=1./255,\n",
    "    rotation_range=20,\n",
    "    width_shift_range=0.2,\n",
    "    height_shift_range=0.2,\n",
    "    shear_range=0.2,\n",
    "    zoom_range=0.2,\n",
    "    horizontal_flip=True,\n",
    "    validation_split=0.2  # 20% validation split\n",
    ")\n",
    "\n",
    "train_generator = train_datagen.flow_from_directory(\n",
    "    DataDir,\n",
    "    target_size=ImgSize,\n",
    "    batch_size=BatchSize,\n",
    "    class_mode='categorical',\n",
    "    subset='training'\n",
    ")\n",
    "\n",
    "validation_generator = train_datagen.flow_from_directory(\n",
    "    DataDir,\n",
    "    target_size=ImgSize,\n",
    "    batch_size=BatchSize,\n",
    "    class_mode='categorical',\n",
    "    subset='validation'\n",
    ")"
   ]
  },
  {
   "cell_type": "markdown",
   "metadata": {},
   "source": [
    "#### Model"
   ]
  },
  {
   "cell_type": "code",
   "execution_count": 5,
   "metadata": {},
   "outputs": [],
   "source": [
    "model = Sequential([\n",
    "    Conv2D(32, (3, 3), activation='relu', input_shape=(128, 128, 3)),\n",
    "    MaxPooling2D((2, 2)),\n",
    "    Conv2D(64, (3, 3), activation='relu'),\n",
    "    MaxPooling2D((2, 2)),\n",
    "    Conv2D(128, (3, 3), activation='relu'),\n",
    "    MaxPooling2D((2, 2)),\n",
    "    Flatten(),\n",
    "    Dense(128, activation='relu'),\n",
    "    Dropout(0.5),\n",
    "    Dense(10, activation='softmax')\n",
    "])\n",
    "model.compile(optimizer='adam',\n",
    "              loss='categorical_crossentropy',\n",
    "              metrics=['accuracy'])\n"
   ]
  },
  {
   "cell_type": "code",
   "execution_count": 6,
   "metadata": {},
   "outputs": [
    {
     "name": "stdout",
     "output_type": "stream",
     "text": [
      "Epoch 1/25\n",
      "500/500 [==============================] - 385s 767ms/step - loss: 1.9756 - accuracy: 0.2646 - val_loss: 1.8035 - val_accuracy: 0.3528\n",
      "Epoch 2/25\n",
      "500/500 [==============================] - 203s 406ms/step - loss: 1.5179 - accuracy: 0.4378 - val_loss: 1.3705 - val_accuracy: 0.5530\n",
      "Epoch 3/25\n",
      "500/500 [==============================] - 140s 280ms/step - loss: 1.1542 - accuracy: 0.5727 - val_loss: 1.0663 - val_accuracy: 0.6233\n",
      "Epoch 4/25\n",
      "500/500 [==============================] - 131s 261ms/step - loss: 0.9224 - accuracy: 0.6611 - val_loss: 0.9086 - val_accuracy: 0.7060\n",
      "Epoch 5/25\n",
      "500/500 [==============================] - 189s 378ms/step - loss: 0.7558 - accuracy: 0.7167 - val_loss: 0.7264 - val_accuracy: 0.7630\n",
      "Epoch 6/25\n",
      "500/500 [==============================] - 591s 1s/step - loss: 0.6512 - accuracy: 0.7579 - val_loss: 0.6638 - val_accuracy: 0.7645\n",
      "Epoch 7/25\n",
      "500/500 [==============================] - 268s 534ms/step - loss: 0.5759 - accuracy: 0.7864 - val_loss: 0.7723 - val_accuracy: 0.7455\n",
      "Epoch 8/25\n",
      "500/500 [==============================] - 163s 327ms/step - loss: 0.5118 - accuracy: 0.8096 - val_loss: 0.6531 - val_accuracy: 0.8018\n",
      "Epoch 9/25\n",
      "500/500 [==============================] - 184s 368ms/step - loss: 0.4556 - accuracy: 0.8356 - val_loss: 0.4860 - val_accuracy: 0.8350\n",
      "Epoch 10/25\n",
      "500/500 [==============================] - 148s 296ms/step - loss: 0.4178 - accuracy: 0.8445 - val_loss: 0.5685 - val_accuracy: 0.8170\n",
      "Epoch 11/25\n",
      "500/500 [==============================] - 129s 258ms/step - loss: 0.3884 - accuracy: 0.8592 - val_loss: 0.4562 - val_accuracy: 0.8478\n",
      "Epoch 12/25\n",
      "500/500 [==============================] - 130s 260ms/step - loss: 0.3682 - accuracy: 0.8669 - val_loss: 0.4225 - val_accuracy: 0.8620\n",
      "Epoch 13/25\n",
      "500/500 [==============================] - 131s 262ms/step - loss: 0.3422 - accuracy: 0.8734 - val_loss: 0.5028 - val_accuracy: 0.8407\n",
      "Epoch 14/25\n",
      "500/500 [==============================] - 128s 256ms/step - loss: 0.3172 - accuracy: 0.8827 - val_loss: 0.3835 - val_accuracy: 0.8752\n",
      "Epoch 15/25\n",
      "500/500 [==============================] - 128s 256ms/step - loss: 0.3047 - accuracy: 0.8869 - val_loss: 0.3942 - val_accuracy: 0.8777\n",
      "Epoch 16/25\n",
      "500/500 [==============================] - 129s 258ms/step - loss: 0.2957 - accuracy: 0.8923 - val_loss: 0.4388 - val_accuracy: 0.8522\n",
      "Epoch 17/25\n",
      "500/500 [==============================] - 129s 259ms/step - loss: 0.2722 - accuracy: 0.8990 - val_loss: 0.5878 - val_accuracy: 0.8135\n",
      "Epoch 18/25\n",
      "500/500 [==============================] - 128s 256ms/step - loss: 0.2594 - accuracy: 0.9041 - val_loss: 0.4646 - val_accuracy: 0.8528\n",
      "Epoch 19/25\n",
      "500/500 [==============================] - 126s 251ms/step - loss: 0.2443 - accuracy: 0.9111 - val_loss: 0.3197 - val_accuracy: 0.8925\n",
      "Epoch 20/25\n",
      "500/500 [==============================] - 127s 254ms/step - loss: 0.2390 - accuracy: 0.9133 - val_loss: 0.4020 - val_accuracy: 0.8750\n",
      "Epoch 21/25\n",
      "500/500 [==============================] - 127s 253ms/step - loss: 0.2259 - accuracy: 0.9177 - val_loss: 0.3641 - val_accuracy: 0.8882\n",
      "Epoch 22/25\n",
      "500/500 [==============================] - 128s 257ms/step - loss: 0.2120 - accuracy: 0.9226 - val_loss: 0.3469 - val_accuracy: 0.8842\n",
      "Epoch 23/25\n",
      "500/500 [==============================] - 128s 256ms/step - loss: 0.2070 - accuracy: 0.9252 - val_loss: 0.3915 - val_accuracy: 0.8783\n",
      "Epoch 24/25\n",
      "500/500 [==============================] - 133s 267ms/step - loss: 0.1980 - accuracy: 0.9276 - val_loss: 0.3456 - val_accuracy: 0.8867\n",
      "Epoch 25/25\n",
      "500/500 [==============================] - 130s 260ms/step - loss: 0.1950 - accuracy: 0.9279 - val_loss: 0.3209 - val_accuracy: 0.8990\n"
     ]
    }
   ],
   "source": [
    "epochs = 25\n",
    "history = model.fit(\n",
    "    train_generator,\n",
    "    epochs=epochs,\n",
    "    validation_data=validation_generator\n",
    ")"
   ]
  },
  {
   "cell_type": "markdown",
   "metadata": {},
   "source": [
    "#### Evaluating the model on validation data"
   ]
  },
  {
   "cell_type": "code",
   "execution_count": 7,
   "metadata": {},
   "outputs": [
    {
     "name": "stdout",
     "output_type": "stream",
     "text": [
      "125/125 [==============================] - 15s 123ms/step - loss: 0.3637 - accuracy: 0.8850\n",
      "Validation Loss: 0.36366379261016846\n",
      "Validation Accuracy: 0.8849999904632568\n"
     ]
    }
   ],
   "source": [
    "Loss, Accuarcy = model.evaluate(validation_generator)\n",
    "print(f\"Validation Loss: {Loss}\")\n",
    "print(f\"Validation Accuracy: {Accuarcy}\")"
   ]
  },
  {
   "cell_type": "markdown",
   "metadata": {},
   "source": [
    "#### Predicting "
   ]
  },
  {
   "cell_type": "code",
   "execution_count": 8,
   "metadata": {},
   "outputs": [
    {
     "name": "stdout",
     "output_type": "stream",
     "text": [
      "1/1 [==============================] - 0s 110ms/step\n",
      "Predicted Class: [3]\n"
     ]
    }
   ],
   "source": [
    "def Preprocessing(ImgPath):\n",
    "    Img = tf.keras.preprocessing.image.load_img(ImgPath, target_size=ImgSize)\n",
    "    ImgArr = tf.keras.preprocessing.image.img_to_array(Img)\n",
    "    ImgArr = np.expand_dims(ImgArr, axis=0)\n",
    "    ImgArr /= 255.0\n",
    "    return ImgArr\n",
    "\n",
    "TestImgPath = \"./Test/03/03_fist/frame_03_03_0005.png\"\n",
    "TestImg = Preprocessing(TestImgPath)\n",
    "Pred = model.predict(TestImg)\n",
    "PredClass = np.argmax(Pred, axis=1)\n",
    "print(f\"Predicted Class: {PredClass}\")\n"
   ]
  },
  {
   "cell_type": "markdown",
   "metadata": {},
   "source": [
    "#### Saving the model"
   ]
  },
  {
   "cell_type": "code",
   "execution_count": 9,
   "metadata": {},
   "outputs": [],
   "source": [
    "model.save('hand_gesture_model.h5')\n",
    "\n",
    "# Load the model\n",
    "# model = tf.keras.models.load_model('hand_gesture_model.h5')\n"
   ]
  }
 ],
 "metadata": {
  "kernelspec": {
   "display_name": "Python 3",
   "language": "python",
   "name": "python3"
  },
  "language_info": {
   "codemirror_mode": {
    "name": "ipython",
    "version": 3
   },
   "file_extension": ".py",
   "mimetype": "text/x-python",
   "name": "python",
   "nbconvert_exporter": "python",
   "pygments_lexer": "ipython3",
   "version": "3.10.9"
  }
 },
 "nbformat": 4,
 "nbformat_minor": 2
}
