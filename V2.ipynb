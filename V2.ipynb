{
 "cells": [
  {
   "cell_type": "code",
   "execution_count": 6,
   "metadata": {},
   "outputs": [],
   "source": [
    "import os\n",
    "import cv2\n",
    "import numpy as np\n",
    "import seaborn as sns\n",
    "# import tensorflow as tf\n",
    "import matplotlib.pyplot as plt\n",
    "from sklearn.preprocessing import LabelEncoder\n",
    "from tensorflow.keras.models import Sequential\n",
    "from sklearn.model_selection import train_test_split\n",
    "from tensorflow.keras.preprocessing.image import ImageDataGenerator\n",
    "from sklearn.metrics import classification_report, confusion_matrix\n",
    "from tensorflow.keras.callbacks import EarlyStopping, ModelCheckpoint\n",
    "from tensorflow.keras.layers import Conv2D, MaxPooling2D, Flatten, Dense, Dropout"
   ]
  },
  {
   "cell_type": "markdown",
   "metadata": {},
   "source": [
    "#### Preprocessing"
   ]
  },
  {
   "cell_type": "code",
   "execution_count": 7,
   "metadata": {},
   "outputs": [],
   "source": [
    "Path = './leapGestRecog'\n",
    "def LoadData(Path, img_height, img_width):\n",
    "    Images = []\n",
    "    Labels = []\n",
    "    for subject_folder in os.listdir(Path):\n",
    "        subject_path = os.path.join(Path, subject_folder)\n",
    "        if os.path.isdir(subject_path):\n",
    "            for gesture_folder in os.listdir(subject_path):\n",
    "                gesture_path = os.path.join(subject_path, gesture_folder)\n",
    "                if os.path.isdir(gesture_path):\n",
    "                    for image_name in os.listdir(gesture_path):\n",
    "                        image_path = os.path.join(gesture_path, image_name)\n",
    "                        image = plt.imread(image_path)\n",
    "                        if image is not None:\n",
    "                            image = cv2.resize(image, (img_height, img_width))\n",
    "                            if len(image.shape) == 2:  # Handle grayscale images\n",
    "                                image = np.stack((image,) * 3, axis=-1)\n",
    "                            Images.append(image)\n",
    "                            Labels.append(gesture_folder)\n",
    "    return np.array(Images), np.array(Labels)\n",
    "\n",
    "\n",
    "ImgHeight, ImgWidth = 128, 128\n",
    "Images, Labels = LoadData(Path, ImgHeight, ImgWidth)\n",
    "NumChannels = 3\n",
    "LabelEn = LabelEncoder()\n",
    "EncodedLabels = LabelEn.fit_transform(Labels)\n",
    "XTrain, XTest, YTrain, YTest = train_test_split(Images, EncodedLabels, test_size=0.2, random_state=42)\n"
   ]
  },
  {
   "cell_type": "code",
   "execution_count": 10,
   "metadata": {},
   "outputs": [],
   "source": [
    "# Data augmentation\n",
    "datagen = ImageDataGenerator(\n",
    "    rescale=1.0/255.0,\n",
    "    rotation_range=10,\n",
    "    width_shift_range=0.1,\n",
    "    height_shift_range=0.1,\n",
    "    shear_range=0.1,\n",
    "    zoom_range=0.1,\n",
    "    horizontal_flip=True,\n",
    "    fill_mode='nearest'\n",
    ")\n",
    "\n",
    "# Prepare the data generators\n",
    "train_generator = datagen.flow(XTrain, YTrain, batch_size=32)\n",
    "test_generator = ImageDataGenerator(rescale=1.0/255.0).flow(XTest, YTest, batch_size=32)\n"
   ]
  },
  {
   "cell_type": "markdown",
   "metadata": {},
   "source": [
    "#### Model"
   ]
  },
  {
   "cell_type": "code",
   "execution_count": 11,
   "metadata": {},
   "outputs": [],
   "source": [
    "model = Sequential([\n",
    "    Conv2D(32, (3, 3), activation='relu', input_shape=(ImgHeight, ImgWidth, NumChannels)),\n",
    "    MaxPooling2D((2, 2)),\n",
    "    Dropout(0.25),\n",
    "    Conv2D(64, (3, 3), activation='relu'),\n",
    "    MaxPooling2D((2, 2)),\n",
    "    Dropout(0.25),\n",
    "    Conv2D(128, (3, 3), activation='relu'),\n",
    "    MaxPooling2D((2, 2)),\n",
    "    Dropout(0.25),\n",
    "    Flatten(),\n",
    "    Dense(256, activation='relu'),\n",
    "    Dropout(0.5),\n",
    "    Dense(10, activation='softmax')\n",
    "])\n",
    "\n",
    "model.compile(optimizer='adam', loss='sparse_categorical_crossentropy', metrics=['accuracy'])\n"
   ]
  },
  {
   "cell_type": "code",
   "execution_count": 12,
   "metadata": {},
   "outputs": [
    {
     "name": "stdout",
     "output_type": "stream",
     "text": [
      "Epoch 1/50\n",
      "500/500 [==============================] - 141s 279ms/step - loss: 2.3030 - accuracy: 0.1012 - val_loss: 2.3031 - val_accuracy: 0.0915\n",
      "Epoch 2/50\n",
      "500/500 [==============================] - 140s 279ms/step - loss: 2.3028 - accuracy: 0.0983 - val_loss: 2.3031 - val_accuracy: 0.0943\n",
      "Epoch 3/50\n",
      "500/500 [==============================] - 200s 400ms/step - loss: 2.3029 - accuracy: 0.1031 - val_loss: 2.3029 - val_accuracy: 0.0943\n",
      "Epoch 4/50\n",
      "500/500 [==============================] - 123s 246ms/step - loss: 2.3028 - accuracy: 0.0989 - val_loss: 2.3029 - val_accuracy: 0.0915\n",
      "Epoch 5/50\n",
      "500/500 [==============================] - 123s 245ms/step - loss: 2.3028 - accuracy: 0.0994 - val_loss: 2.3031 - val_accuracy: 0.0915\n",
      "Epoch 6/50\n",
      "500/500 [==============================] - 121s 242ms/step - loss: 2.3027 - accuracy: 0.1001 - val_loss: 2.3030 - val_accuracy: 0.0943\n",
      "Epoch 7/50\n",
      "500/500 [==============================] - 123s 246ms/step - loss: 2.3028 - accuracy: 0.0978 - val_loss: 2.3030 - val_accuracy: 0.0915\n",
      "Epoch 8/50\n",
      "500/500 [==============================] - 127s 254ms/step - loss: 2.3028 - accuracy: 0.1013 - val_loss: 2.3030 - val_accuracy: 0.0915\n",
      "Epoch 9/50\n",
      "500/500 [==============================] - 133s 266ms/step - loss: 2.3028 - accuracy: 0.1021 - val_loss: 2.3030 - val_accuracy: 0.0915\n",
      "Epoch 10/50\n",
      "500/500 [==============================] - 132s 265ms/step - loss: 2.3028 - accuracy: 0.0996 - val_loss: 2.3031 - val_accuracy: 0.0943\n",
      "Epoch 11/50\n",
      "500/500 [==============================] - 131s 263ms/step - loss: 2.3028 - accuracy: 0.0984 - val_loss: 2.3031 - val_accuracy: 0.0915\n",
      "Epoch 12/50\n",
      "500/500 [==============================] - 127s 254ms/step - loss: 2.3028 - accuracy: 0.1021 - val_loss: 2.3031 - val_accuracy: 0.0915\n",
      "Epoch 13/50\n",
      "500/500 [==============================] - 127s 254ms/step - loss: 2.3028 - accuracy: 0.1021 - val_loss: 2.3030 - val_accuracy: 0.0915\n"
     ]
    }
   ],
   "source": [
    "# Define callbacks\n",
    "early_stopping = EarlyStopping(monitor='val_loss', patience=10, restore_best_weights=True)\n",
    "model_checkpoint = ModelCheckpoint('best_model.h5', save_best_only=True)\n",
    "\n",
    "# Train the model\n",
    "history = model.fit(\n",
    "    train_generator,\n",
    "    epochs=50,\n",
    "    validation_data=test_generator,\n",
    "    callbacks=[early_stopping, model_checkpoint]\n",
    ")\n"
   ]
  },
  {
   "cell_type": "markdown",
   "metadata": {},
   "source": [
    "#### Evaluating"
   ]
  },
  {
   "cell_type": "code",
   "execution_count": 13,
   "metadata": {},
   "outputs": [
    {
     "name": "stdout",
     "output_type": "stream",
     "text": [
      "125/125 [==============================] - 5s 43ms/step - loss: 2.3029 - accuracy: 0.0943\n",
      "Test Accuracy: 9.43%\n"
     ]
    }
   ],
   "source": [
    "model.load_weights('best_model.h5')\n",
    "loss, accuracy = model.evaluate(test_generator)\n",
    "print(f'Test Accuracy: {accuracy * 100:.2f}%')"
   ]
  },
  {
   "cell_type": "markdown",
   "metadata": {},
   "source": [
    "#### Predicting"
   ]
  },
  {
   "cell_type": "code",
   "execution_count": 14,
   "metadata": {},
   "outputs": [
    {
     "name": "stdout",
     "output_type": "stream",
     "text": [
      "125/125 [==============================] - 5s 43ms/step\n",
      "               precision    recall  f1-score   support\n",
      "\n",
      "      01_palm       0.00      0.00      0.00       417\n",
      "         02_l       0.00      0.00      0.00       404\n",
      "      03_fist       0.00      0.00      0.00       404\n",
      "04_fist_moved       0.00      0.00      0.00       418\n",
      "     05_thumb       0.09      1.00      0.17       377\n",
      "     06_index       0.00      0.00      0.00       392\n",
      "        07_ok       0.00      0.00      0.00       403\n",
      "08_palm_moved       0.00      0.00      0.00       409\n",
      "         09_c       0.00      0.00      0.00       410\n",
      "      10_down       0.00      0.00      0.00       366\n",
      "\n",
      "     accuracy                           0.09      4000\n",
      "    macro avg       0.01      0.10      0.02      4000\n",
      " weighted avg       0.01      0.09      0.02      4000\n",
      "\n"
     ]
    },
    {
     "name": "stderr",
     "output_type": "stream",
     "text": [
      "c:\\Users\\97156\\AppData\\Local\\Programs\\Python\\Python310\\lib\\site-packages\\sklearn\\metrics\\_classification.py:1469: UndefinedMetricWarning: Precision and F-score are ill-defined and being set to 0.0 in labels with no predicted samples. Use `zero_division` parameter to control this behavior.\n",
      "  _warn_prf(average, modifier, msg_start, len(result))\n",
      "c:\\Users\\97156\\AppData\\Local\\Programs\\Python\\Python310\\lib\\site-packages\\sklearn\\metrics\\_classification.py:1469: UndefinedMetricWarning: Precision and F-score are ill-defined and being set to 0.0 in labels with no predicted samples. Use `zero_division` parameter to control this behavior.\n",
      "  _warn_prf(average, modifier, msg_start, len(result))\n",
      "c:\\Users\\97156\\AppData\\Local\\Programs\\Python\\Python310\\lib\\site-packages\\sklearn\\metrics\\_classification.py:1469: UndefinedMetricWarning: Precision and F-score are ill-defined and being set to 0.0 in labels with no predicted samples. Use `zero_division` parameter to control this behavior.\n",
      "  _warn_prf(average, modifier, msg_start, len(result))\n"
     ]
    }
   ],
   "source": [
    "YPred = model.predict(test_generator)\n",
    "YPredClass = np.argmax(YPred, axis=1)\n",
    "print(classification_report(YTest, YPredClass, target_names=LabelEn.classes_))\n"
   ]
  },
  {
   "cell_type": "markdown",
   "metadata": {},
   "source": [
    "#### Confusion Matrix"
   ]
  },
  {
   "cell_type": "code",
   "execution_count": 16,
   "metadata": {},
   "outputs": [
    {
     "data": {
      "image/png": "[encoded data removed]",
      "text/plain": [
       "<Figure size 1000x800 with 2 Axes>"
      ]
     },
     "metadata": {},
     "output_type": "display_data"
    }
   ],
   "source": [
    "ConfMatrix = confusion_matrix(YTest, YPredClass)\n",
    "plt.figure(figsize=(10, 8))\n",
    "sns.heatmap(ConfMatrix, annot=True, fmt='d', cmap='Blues')\n",
    "plt.xlabel('Predicted')\n",
    "plt.ylabel('True')\n",
    "plt.title('Confusion Matrix')\n",
    "plt.show()"
   ]
  }
 ],
 "metadata": {
  "kernelspec": {
   "display_name": "Python 3",
   "language": "python",
   "name": "python3"
  },
  "language_info": {
   "codemirror_mode": {
    "name": "ipython",
    "version": 3
   },
   "file_extension": ".py",
   "mimetype": "text/x-python",
   "name": "python",
   "nbconvert_exporter": "python",
   "pygments_lexer": "ipython3",
   "version": "3.10.9"
  }
 },
 "nbformat": 4,
 "nbformat_minor": 2
}
